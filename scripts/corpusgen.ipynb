{
 "cells": [
  {
   "cell_type": "code",
   "execution_count": null,
   "id": "another-element",
   "metadata": {},
   "outputs": [],
   "source": [
    "%pip install nltk"
   ]
  },
  {
   "cell_type": "code",
   "execution_count": null,
   "id": "usual-entrance",
   "metadata": {},
   "outputs": [],
   "source": [
    "import requests\n",
    "from pathlib import Path\n",
    "from nltk.corpus import wordnet as wn"
   ]
  },
  {
   "cell_type": "markdown",
   "id": "physical-association",
   "metadata": {},
   "source": [
    "# Sources\n",
    "\n",
    "We use https://github.com/first20hours/google-10000-english which is a curration of the top 10k english words from  Google's Trillion Word Corpus in different lenth arrangements with swear words excluded.\n",
    "\n",
    "Data sources are licensed under MIT"
   ]
  },
  {
   "cell_type": "code",
   "execution_count": null,
   "id": "outside-transfer",
   "metadata": {},
   "outputs": [],
   "source": [
    "medium_word_list_url = 'https://raw.githubusercontent.com/first20hours/google-10000-english/master/google-10000-english-usa-no-swears-medium.txt'\n",
    "long_word_list_url = 'https://raw.githubusercontent.com/first20hours/google-10000-english/master/google-10000-english-usa-no-swears-long.txt'"
   ]
  },
  {
   "cell_type": "code",
   "execution_count": null,
   "id": "confirmed-cleveland",
   "metadata": {},
   "outputs": [],
   "source": [
    "adjectives = {x.name().split('.', 1)[0] for x in wn.all_synsets(wn.ADJ)}\n",
    "nouns = {x.name().split('.', 1)[0] for x in wn.all_synsets(wn.NOUN)}"
   ]
  },
  {
   "cell_type": "code",
   "execution_count": null,
   "id": "human-cyprus",
   "metadata": {},
   "outputs": [],
   "source": [
    "len(adjectives)"
   ]
  },
  {
   "cell_type": "code",
   "execution_count": null,
   "id": "signal-values",
   "metadata": {},
   "outputs": [],
   "source": [
    "len(nouns)"
   ]
  },
  {
   "cell_type": "code",
   "execution_count": null,
   "id": "false-subscription",
   "metadata": {},
   "outputs": [],
   "source": [
    "def load_word_list(url):\n",
    "    with requests.Session() as s:\n",
    "        download = s.get(url)\n",
    "        return download.content.decode('utf-8').splitlines()"
   ]
  },
  {
   "cell_type": "code",
   "execution_count": null,
   "id": "opposite-pioneer",
   "metadata": {},
   "outputs": [],
   "source": [
    "medium_word_list = load_word_list(medium_word_list_url)\n",
    "long_word_list = load_word_list(long_word_list_url)\n",
    "acceptable_words = medium_word_list + long_word_list"
   ]
  },
  {
   "cell_type": "code",
   "execution_count": null,
   "id": "macro-report",
   "metadata": {},
   "outputs": [],
   "source": [
    "len(acceptable_words)"
   ]
  },
  {
   "cell_type": "code",
   "execution_count": null,
   "id": "efficient-location",
   "metadata": {},
   "outputs": [],
   "source": [
    "acceptable_nouns = [w for w in acceptable_words if w in nouns and w]\n",
    "acceptable_adjectives = [w for w in acceptable_words if w in adjectives and w]"
   ]
  },
  {
   "cell_type": "code",
   "execution_count": null,
   "id": "outside-immunology",
   "metadata": {},
   "outputs": [],
   "source": [
    "len(acceptable_nouns)"
   ]
  },
  {
   "cell_type": "code",
   "execution_count": null,
   "id": "familiar-benjamin",
   "metadata": {},
   "outputs": [],
   "source": [
    "len(acceptable_adjectives)"
   ]
  },
  {
   "cell_type": "code",
   "execution_count": null,
   "id": "listed-myrtle",
   "metadata": {},
   "outputs": [],
   "source": [
    "with open(Path.cwd().parent / 'nbformat' / 'corpus' / 'nouns.txt', 'w') as nouns_file:\n",
    "    nouns_file.writelines(f\"{n}\\n\" for n in acceptable_nouns)"
   ]
  },
  {
   "cell_type": "code",
   "execution_count": null,
   "id": "starting-retreat",
   "metadata": {},
   "outputs": [],
   "source": [
    "with open(Path.cwd().parent / 'nbformat' / 'corpus' / 'adjectives.txt', 'w') as adjectives_file:\n",
    "    adjectives_file.writelines(f\"{n}\\n\" for n in acceptable_adjectives)"
   ]
  }
 ],
 "metadata": {
  "kernelspec": {
   "display_name": "Python 3",
   "language": "python",
   "name": "python3"
  },
  "language_info": {
   "codemirror_mode": {
    "name": "ipython",
    "version": 3
   },
   "file_extension": ".py",
   "mimetype": "text/x-python",
   "name": "python",
   "nbconvert_exporter": "python",
   "pygments_lexer": "ipython3",
   "version": "3.8.2"
  }
 },
 "nbformat": 4,
 "nbformat_minor": 5
}
