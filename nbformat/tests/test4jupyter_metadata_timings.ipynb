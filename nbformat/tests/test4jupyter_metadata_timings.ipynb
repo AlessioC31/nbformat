{
 "cells": [
  {
   "cell_type": "code",
   "execution_count": 1,
   "metadata": {
    "timing": {
     "iopub.execute_input": "2019-07-31T20:00:18.717040Z",
     "iopub.status.busy": "2019-07-31T20:00:18.713497Z",
     "iopub.status.idle": "2019-07-31T20:00:18.754574Z",
     "shell.execute_reply": "2019-07-31T20:00:18.752796Z",
     "shell.execute_reply.started": "2019-07-31T20:00:18.714023Z",
     "custom.some_event": "2019-07-31T20:00:18.751396Z"
    }
   },
   "outputs": [
    {
     "data": {
      "text/plain": [
       "2"
      ]
     },
     "execution_count": 1,
     "metadata": {},
     "output_type": "execute_result"
    }
   ],
   "source": [
    "1+1"
   ]
  },
  {
   "cell_type": "code",
   "execution_count": null,
   "metadata": {},
   "outputs": [],
   "source": []
  }
 ],
 "metadata": {
  "kernelspec": {
   "display_name": "Python 2",
   "language": "python",
   "name": "python2"
  },
  "language_info": {
   "codemirror_mode": {
    "name": "ipython",
    "version": 3
   },
   "file_extension": ".py",
   "mimetype": "text/x-python",
   "name": "python",
   "nbconvert_exporter": "python",
   "pygments_lexer": "ipython3",
   "version": "3.5.2"
  },
  "record_timing": true
 },
 "nbformat": 4,
 "nbformat_minor": 4
}
